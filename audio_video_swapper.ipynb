{
  "nbformat": 4,
  "nbformat_minor": 0,
  "metadata": {
    "colab": {
      "name": "audio-video-swapper.ipynb",
      "version": "0.3.2",
      "provenance": [],
      "private_outputs": true,
      "collapsed_sections": [
        "UWNqFDPCdhIQ"
      ],
      "include_colab_link": true
    },
    "kernelspec": {
      "name": "python3",
      "display_name": "Python 3"
    }
  },
  "cells": [
    {
      "cell_type": "markdown",
      "metadata": {
        "id": "view-in-github",
        "colab_type": "text"
      },
      "source": [
        "<a href=\"https://colab.research.google.com/github/bxck75/audio_video_swapper/blob/master/audio_video_swapper.ipynb\" target=\"_parent\"><img src=\"https://colab.research.google.com/assets/colab-badge.svg\" alt=\"Open In Colab\"/></a>"
      ]
    },
    {
      "cell_type": "markdown",
      "metadata": {
        "id": "XGi1SDreZMAZ",
        "colab_type": "text"
      },
      "source": [
        "#Swapper"
      ]
    },
    {
      "cell_type": "code",
      "metadata": {
        "id": "AQidTNwPOelh",
        "colab_type": "code",
        "colab": {},
        "cellView": "both"
      },
      "source": [
        "import subprocess,os,sys\n",
        "from IPython.display import clear_output\n",
        "def system_call(command):\n",
        "    p = subprocess.Popen([command], stdout=subprocess.PIPE, shell=True)\n",
        "    return p.stdout.read()\n",
        "\n",
        "def get_seconds(timestr):\n",
        "  ftr = [60,1,0]\n",
        "  return str(sum([a*b for a,b in zip(ftr, map(int,timestr.split(':')))]))\n",
        "# https://www.youtube.com/watch?v=LeKxHwB1oVA\n",
        "#@title Setup the swap\n",
        "#@markdown video to get the dancer video from\n",
        "# https://www.youtube.com/watch?v=vdJcJAO8lrE\n",
        "DanceVideo='https://www.youtube.com/watch?v=LeKxHwB1oVA' #@param {type:\"string\"}\n",
        "#@markdown video to get the audio from\n",
        "AudioVideo='https://www.youtube.com/watch?v=ETfiUYij5UE' #@param {type:\"string\"}\n",
        "# DanceSpeed='0.6' #@param [1.0, 0.25, 0.50, 0.75, 0.1] {allow-input: true}\n",
        "DanceSpeed = 1 #@param {type:\"slider\", min:0.1, max:2.0, step:0.1}\n",
        "AudioSpeed = 1.0 #@param {type:\"slider\", min:0.1, max:2.0, step:0.1}\n"
      ],
      "execution_count": 0,
      "outputs": []
    },
    {
      "cell_type": "code",
      "metadata": {
        "id": "Hd614flpHxHS",
        "colab_type": "code",
        "colab": {},
        "cellView": "both"
      },
      "source": [
        "#@title notice the max end times\n",
        "# make folder for extraction\n",
        "if not os.path.exists('/content/audioswapper'):\n",
        "  os.mkdir('/content/audioswapper',777)\n",
        "if not os.path.exists('/content/final_result'):\n",
        "  os.mkdir('/content/final_result',777)\n",
        "!pip install youtube-dl\n",
        "system_call('youtube-dl -f mp4 '+AudioVideo+' --output /content/audioswapper/audiosource.mp4')\n",
        "audio_time = system_call(\"ffmpeg -i /content/audioswapper/audiosource.mp4 2>&1 | grep 'Duration' |awk -F '00:' '{print $2}' |awk -F ',' '{print $1}'\")\n",
        "system_call('youtube-dl -f mp4 '+DanceVideo+' --output /content/audioswapper/videosource.mp4')\n",
        "video_time = system_call(\"ffmpeg -i /content/audioswapper/videosource.mp4 2>&1 | grep 'Duration' |awk -F '00:' '{print $2}' |awk -F ',' '{print $1}'\")\n",
        "\n",
        "print(audio_time)\n",
        "print(video_time)\n",
        "\n",
        "clat=get_seconds(str(audio_time).split(\"'\")[1].replace(\".\",\":\").replace(\"\\\\n\",\"\"))\n",
        "clvt=get_seconds(str(video_time).split(\"'\")[1].replace(\".\",\":\").replace(\"\\\\n\",\"\"))\n",
        "clear_output()\n",
        "print(\"Audio source has \"+clat+\" seconds\")\n",
        "print(\"Video source has \"+clvt+\" seconds\")"
      ],
      "execution_count": 0,
      "outputs": []
    },
    {
      "cell_type": "code",
      "metadata": {
        "id": "pMCI8VW650ws",
        "colab_type": "code",
        "colab": {},
        "cellView": "both"
      },
      "source": [
        "\n",
        "Trim_Start_Dance= 0 #@param {type: \"slider\", min: 0, max: 200}\n",
        "Trim_Start_Audio= 0 #@param {type: \"slider\", min: 0, max: 200}\n",
        "Trim_End_Dance= 457 #@param {type: \"slider\", min: 0, max: 1200}\n",
        "Trim_End_Audio = 399 #@param {type:\"slider\", min:0, max:1200, step:1}\n",
        "Final_output_name = 'boogie_konijnenshuffle1' #@param {type: \"string\"}\n",
        "#check end times\n",
        "input('set the start and end of sources and press enter')\n",
        "l=[int(clat)-Trim_Start_Audio,int(clvt)-Trim_Start_Dance]\n",
        "shortest_video=min(int(i) for i in l)\n",
        "print('The shortest video is '+str(shortest_video))\n",
        "\n",
        "if Trim_End_Dance > int(clvt):\n",
        "  Trim_End_Dance = int(clvt)\n",
        "  print('set the end time of Videosource to the file limit '+str(shortest_video))\n",
        "if Trim_End_Audio > int(shortest_video):\n",
        "  print('set the end time of Audiosource to the file limit '+str(shortest_video))\n",
        "  Trim_End_Audio = int(shortest_video)\n"
      ],
      "execution_count": 0,
      "outputs": []
    },
    {
      "cell_type": "markdown",
      "metadata": {
        "id": "UWNqFDPCdhIQ",
        "colab_type": "text"
      },
      "source": [
        "##widgets"
      ]
    },
    {
      "cell_type": "code",
      "metadata": {
        "id": "xOCidimZdqLH",
        "colab_type": "code",
        "colab": {},
        "cellView": "form"
      },
      "source": [
        "#widgets\n",
        "\n",
        "# All input widgets!\n",
        "\n",
        "#@title Example form fields\n",
        "#@markdown Forms support many types of fields.\n",
        "\n",
        "no_type_checking = 'name'  #@param\n",
        "string_type = 'example'  #@param {type: \"string\"}\n",
        "slider_value = 179  #@param {type: \"slider\", min: 100, max: 200}\n",
        "number = 102  #@param {type: \"number\"}\n",
        "date = '2010-11-05'  #@param {type: \"date\"}\n",
        "pick_me = \"monday\"  #@param ['monday', 'tuesday', 'wednesday', 'thursday']\n",
        "select_or_input = \"apples\" #@param [\"apples\", \"bananas\", \"oranges\"] {allow-input: true}\n",
        "#@markdown ---*italicized text* "
      ],
      "execution_count": 0,
      "outputs": []
    },
    {
      "cell_type": "markdown",
      "metadata": {
        "id": "1IS51ZWfVE-F",
        "colab_type": "text"
      },
      "source": [
        "#Run"
      ]
    },
    {
      "cell_type": "code",
      "metadata": {
        "id": "rvOit3llfKHi",
        "colab_type": "code",
        "colab": {}
      },
      "source": [
        "#setup imports\n",
        "\n",
        "!pip install ffmpeg moviepy imageio\n",
        "import moviepy,os\n",
        "import moviepy.editor as mp\n",
        "import imageio\n",
        "from IPython.display import clear_output\n",
        "from moviepy.editor import VideoFileClip, AudioFileClip,concatenate_audioclips,concatenate_videoclips,clips_array, vfx,CompositeVideoClip\n",
        "from moviepy.video.fx import crop\n",
        "from moviepy.video.io.ffmpeg_tools import ffmpeg_extract_subclip\n",
        "clear_output()"
      ],
      "execution_count": 0,
      "outputs": []
    },
    {
      "cell_type": "code",
      "metadata": {
        "id": "aV6DKyctI6QY",
        "colab_type": "code",
        "colab": {}
      },
      "source": [
        "\n",
        "def Trim_video(t,tr,start=0,stop=1000):  \n",
        "  # cut clip if need\n",
        "#   !ffmpeg -hwaccel cuvid -y -i {t} -ss {start} -async 1 -strict -2 {tr}\n",
        "#   ffmpeg_extract_subclip(t, start, stop, targetname=tr) \n",
        "  with VideoFileClip(t) as video:\n",
        "      new = video.subclip(start, stop)\n",
        "      new.write_videofile(tr, audio_codec='aac')\n",
        "      \n",
        "# trim the audio  \n",
        "print(str(Trim_Start_Audio)+'/'+str(Trim_End_Audio))\n",
        "Trim_video('/content/audioswapper/audiosource.mp4','/content/audioswapper/sjeik_trimmed.mp4',Trim_Start_Audio,Trim_End_Audio)\n",
        "# trim the video\n",
        "print(str(Trim_Start_Dance)+'/'+str(Trim_End_Dance))\n",
        "Trim_video('/content/audioswapper/videosource.mp4','/content/audioswapper/konijn_trimmed.mp4',Trim_Start_Dance,Trim_End_Dance)\n",
        "\n",
        "# speed up dance vid\n",
        "print('working on speeding')\n",
        "system_call('ffmpeg -y -hwaccel cuvid -i \"/content/audioswapper/konijn_trimmed.mp4\" \\\n",
        "  -filter_complex \"[0:v]setpts='+str(DanceSpeed)+'*PTS[v];[0:a]atempo=1.0[a]\" -map \"[v]\" \\\n",
        "  -map \"[a]\" \"/content/audioswapper/konijn_up_speed.mp4\"')\n",
        "system_call('ffmpeg -y -hwaccel cuvid -i \"/content/audioswapper/sjeik_trimmed.mp4\" \\\n",
        "  -filter_complex \"[0:v]setpts=0.5*PTS[v];[0:a]atempo='+str(AudioSpeed)+'[a]\" -map \"[v]\" \\\n",
        "  -map \"[a]\" \"/content/audioswapper/sjeik_up_speed.mp4\"')\n",
        "\n",
        "\n",
        "# split the audio from de trimmed video\n",
        "videoclip = VideoFileClip('/content/audioswapper/sjeik_up_speed.mp4')\n",
        "audioclip = videoclip.audio\n",
        "audioclip.write_audiofile('/content/audioswapper/sjeik.mp3')\n",
        "\n",
        "# sync audio video\n",
        "system_call('ffmpeg -y -hwaccel cuvid -i /content/audioswapper/konijn_up_speed.mp4 \\\n",
        "  -i /content/audioswapper/sjeik.mp3 -af \"adelay=6500|6500\" -c:v copy /content/final_result/synced_konijn.mp4')\n",
        "\n",
        "# combine the two\n",
        "\n",
        "video = VideoFileClip(\"/content/final_result/synced_konijn.mp4\")\n",
        "# video = VideoFileClip(\"/content/final_result/synced_konijn.mp4\")\n",
        "video_with_new_audio = video.set_audio(AudioFileClip(\"/content/audioswapper/sjeik.mp3\")) \n",
        "# video_with_new_audio.write_videofile(\"/content/final_result/sjeik_konijn.mp4\", fps=60, codec=\"mpeg4\")\n",
        "video_with_new_audio.write_videofile(\"/content/final_result/\"+Final_output_name+\".mp4\")\n",
        "# system_call('rm -r /content/audioswapper')\n",
        "clear_output()"
      ],
      "execution_count": 0,
      "outputs": []
    },
    {
      "cell_type": "code",
      "metadata": {
        "id": "uPv2Ndzhq2ns",
        "colab_type": "code",
        "colab": {}
      },
      "source": [
        "sys.exit()\n",
        "system_call('rm -r /content/audioswapper')"
      ],
      "execution_count": 0,
      "outputs": []
    },
    {
      "cell_type": "code",
      "metadata": {
        "id": "I78q_M8urz_V",
        "colab_type": "code",
        "colab": {}
      },
      "source": [
        "def Trim_video(t,tr,start=0,stop=1000):  \n",
        "  # cut clip if need\n",
        "#   !ffmpeg -hwaccel cuvid -y -i {t} -ss {start} -async 1 -strict -2 {tr}\n",
        "#   ffmpeg_extract_subclip(t, start, stop, targetname=tr) \n",
        "  with VideoFileClip(t) as video:\n",
        "      new = video.subclip(start, stop)\n",
        "      new.write_videofile(tr, audio_codec='aac')\n",
        "Trim_video('/content/final_result/boogie_konijnenshuffle1.mp4','/content/final_result/boogie_konijnenshuffle_trim.mp4',32,278)"
      ],
      "execution_count": 0,
      "outputs": []
    },
    {
      "cell_type": "code",
      "metadata": {
        "id": "CLdeVQoKy_wp",
        "colab_type": "code",
        "colab": {}
      },
      "source": [
        "# biggy\n",
        "Trim_video('/content/audioswapper/sjeik_trimmed.mp4','/content/audioswapper/sjeik_trimmed_new.mp4',18,280)\n",
        "clear_output()"
      ],
      "execution_count": 0,
      "outputs": []
    },
    {
      "cell_type": "code",
      "metadata": {
        "id": "45_3Px7gyuTD",
        "colab_type": "code",
        "colab": {}
      },
      "source": [
        "# Trim_video('/content/audioswapper/audiosourceberlin.mp4','/content/audioswapper/audiosourceberlintrimmerd_dance_talk.mp4',30,40)\n",
        "# Trim_video('/content/audioswapper/audiosourceberlin.mp4','/content/audioswapper/audiosourceberlintrimmerd_dance1.mp4',20,30)\n",
        "# Trim_video('/content/audioswapper/audiosourceberlin.mp4','/content/audioswapper/audiosourceberlintrimmerd_dance2.mp4',44,68)\n",
        "# Trim_video('/content/audioswapper/audiosourceberlin.mp4','/content/audioswapper/audiosourceberlintrimmerd_dance3.mp4',71,96)\n",
        "# Trim_video('/content/audioswapper/audiosourceberlin.mp4','/content/audioswapper/audiosourceberlintrimmerd_dance4.mp4',108,152)\n",
        "# Trim_video('/content/audioswapper/audiosourceberlin.mp4','/content/audioswapper/audiosourceberlintrimmerd_dance5.mp4',176 ,180)\n",
        "Trim_video('/content/audioswapper/audiosourceberlin.mp4','/content/audioswapper/audiosourceberlintrimmerd_dance6.mp4',200 ,240)\n",
        "Trim_video('/content/audioswapper/audiosourceberlin.mp4','/content/audioswapper/audiosourceberlintrimmerd_dance7.mp4',240 ,260)"
      ],
      "execution_count": 0,
      "outputs": []
    },
    {
      "cell_type": "code",
      "metadata": {
        "id": "pc_NLECHvwuW",
        "colab_type": "code",
        "colab": {}
      },
      "source": [
        "# https://www.youtube.com/watch?v=LeKxHwB1oV\n",
        "system_call('youtube-dl -f mp4 https://www.youtube.com/watch?v=LeKxHwB1oV --output /content/audioswapper/audiosourcenogeen.mp4')\n"
      ],
      "execution_count": 0,
      "outputs": []
    },
    {
      "cell_type": "code",
      "metadata": {
        "id": "ArWE6plli8_A",
        "colab_type": "code",
        "colab": {}
      },
      "source": [
        "# /content/audioswapper/sjeik.mp3 biggie\n",
        "video = VideoFileClip(\"/content/audioswapper/sjeik_trimmed_new.mp4\")\n",
        "audio=video.audio\n",
        "audio.write_audiofile('/content/audioswapper/sjeiklol.mp3')\n",
        "\n",
        "# video = VideoFileClip(\"/content/final_result/synced_konijn.mp4\")\n",
        "# video_with_new_audio = video.set_audio(AudioFileClip(\"/content/audioswapper/sjeik.mp3\")) \n",
        "videoclip1=VideoFileClip('/content/audioswapper/audiosourceberlintrimmerd_dance_talk.mp4').volumex(0.0)\n",
        "videoclip2=VideoFileClip('/content/audioswapper/audiosourceberlintrimmerd_dance1.mp4').volumex(0.0)\n",
        "videoclip3=VideoFileClip('/content/audioswapper/audiosourceberlintrimmerd_dance2.mp4').volumex(0.0)\n",
        "videoclip4=VideoFileClip('/content/audioswapper/audiosourceberlintrimmerd_dance3.mp4').volumex(0.0)\n",
        "videoclip5=VideoFileClip('/content/audioswapper/audiosourceberlintrimmerd_dance4.mp4').volumex(0.0)\n",
        "videoclip6=VideoFileClip('/content/audioswapper/audiosourceberlintrimmerd_dance5.mp4').volumex(0.0)\n",
        "videoclip7=VideoFileClip('/content/audioswapper/audiosourceberlintrimmerd_dance6.mp4').volumex(0.0)\n",
        "videoclip7=VideoFileClip('/content/audioswapper/audiosourceberlintrimmerd_dance7.mp4').volumex(0.0)\n",
        "\n",
        "concat_clip = mp.concatenate_videoclips([videoclip1,videoclip2,videoclip3,videoclip4,videoclip5,videoclip6,videoclip7], method=\"compose\")\n",
        "# concat_clip.write_videofile(\"texts.mp4\")\n",
        "# final = CompositeVideoClip([videoclip1,videoclip2,videoclip3,videoclip4])\n",
        "# final.set_audio(AudioFileClip(\"/content/audioswapper/sjeiklol.mp3\")).volumex(1.4)\n",
        "concat_clip.write_videofile(\"/content/compovid2.mp4\")#audio=\"/content/audioswapper/sjeiklol.mp3\"\n",
        "# sync audio video\n",
        "system_call('ffmpeg -y -hwaccel cuvid -i /content/compovid2.mp4 -i /content/audioswapper/sjeiklol.mp3 -af \"adelay=6500|6500\" -c:v copy /content/final_result/synced_konijn.mp4')\n",
        "video = VideoFileClip(\"/content/final_result/synced_konijn.mp4\")\n",
        "# video = VideoFileClip(\"/content/final_result/synced_konijn.mp4\")\n",
        "video_with_new_audio = video.set_audio(AudioFileClip(\"/content/audioswapper/sjeiklol.mp3\")) \n",
        "# video_with_new_audio.write_videofile(\"/content/final_result/sjeik_konijn.mp4\", fps=60, codec=\"mpeg4\")\n",
        "video_with_new_audio.write_videofile(\"/content/final_result/idiotfinal.mp4\")\n"
      ],
      "execution_count": 0,
      "outputs": []
    },
    {
      "cell_type": "code",
      "metadata": {
        "id": "aT2tNmr6t-1L",
        "colab_type": "code",
        "colab": {}
      },
      "source": [
        "# system_call('ffmpeg -y -hwaccel cuvid -i \"/content/final_result/idiotfinal.mp4\" \\\n",
        "#   -filter_complex \"[0:v]setpts=1.10*PTS[v];[0:a]atempo=1.41[a]\" -map \"[v]\" \\\n",
        "#   -map \"[a]\" \"/content/final_result/idiotfinal_tempo3.mp4\"')\n",
        "system_call('ffmpeg -y -hwaccel cuvid -i \"/content/final_result/idiotfinal.mp4\" \\\n",
        "  -filter_complex \"[0:v]setpts=0.55*PTS[v];[0:a]atempo=1.40[a]\" -map \"[v]\" \\\n",
        "  -map \"[a]\" \"/content/final_result/idiotfinal_tempo4.mp4\"')"
      ],
      "execution_count": 0,
      "outputs": []
    },
    {
      "cell_type": "code",
      "metadata": {
        "id": "ktk9Sf3uBskf",
        "colab_type": "code",
        "colab": {}
      },
      "source": [
        "# video_time = system_call(\"ffmpeg -i /content/final_result/idiotfinal_tempo3.mp4 2>&1 | grep 'Duration' \")#|awk -F '00:' '{print $2}' |awk -F ',' '{print $1}'\n",
        "\n",
        "\n",
        "print(video_time)\n",
        "print(get_seconds('00:02:22'))\n",
        "def get_seconds(timestr):\n",
        "  ftr = [3600,60,1]\n",
        "  return str(sum([a*b for a,b in zip(ftr, map(int,timestr.split(':')))]))\n",
        "Trim_video('/content/final_result/idiotfinal_tempo3.mp4','/content/final_result/idiotfinal_tempo3_final.mp4',0,'00:02:22')"
      ],
      "execution_count": 0,
      "outputs": []
    },
    {
      "cell_type": "code",
      "metadata": {
        "id": "hqW-gZW5tWM4",
        "colab_type": "code",
        "colab": {}
      },
      "source": [
        "# # split the audio from de trimmed video\n",
        "# system_call('ffmpeg -y -hwaccel cuvid -i \"/content/audioswapper/audiosource.mp4\" \\\n",
        "#   -filter_complex \"[0:v]setpts=0.5*PTS[v];[0:a]atempo=1.21[a]\" -map \"[v]\" \\\n",
        "#   -map \"[a]\" \"/content/audioswapper/sjeik_up_speed.mp4\"')\n",
        "videoclip = VideoFileClip('/content/audioswapper/audiosource.mp4')\n",
        "audioclip = videoclip.audio\n",
        "audioclip.write_audiofile('/content/final_result/sjeik.mp3')\n",
        "# sync audio video\n",
        "system_call('ffmpeg -y -hwaccel cuvid -i /content/compovid.mp4 -i /content/audioswapper/sjeiklol.mp3 -af \"adelay=6500|6500\" -c:v copy /content/final_result/synced_konijn.mp4')\n",
        "\n",
        "video = VideoFileClip(\"/content/final_result/synced_konijn.mp4\")\n",
        "# video = VideoFileClip(\"/content/final_result/synced_konijn.mp4\")\n",
        "video_with_new_audio = video.set_audio(AudioFileClip(\"/content/final_result/sjeik.mp3\")) \n",
        "# video_with_new_audio.write_videofile(\"/content/final_result/sjeik_konijn.mp4\", fps=60, codec=\"mpeg4\")\n",
        "video_with_new_audio.write_videofile(\"/content/final_result/\"+Final_output_name+\".mp4\")"
      ],
      "execution_count": 0,
      "outputs": []
    },
    {
      "cell_type": "code",
      "metadata": {
        "id": "zJst31De0NK5",
        "colab_type": "code",
        "colab": {}
      },
      "source": [
        "# split the audio from de trimmed video\n",
        "system_call('ffmpeg -y -hwaccel cuvid -i '/content/final_result/boogie_konijnenshuffle1.mp4' \\\n",
        "  -filter_complex \"[0:v]setpts=1.2*PTS[v];[0:a]atempo=0.9[a]\" -map \"[v]\" \\\n",
        "  -map \"[a]\" \"/content/final_result/boogie_konijnenshuffle1_speed.mp4\"')"
      ],
      "execution_count": 0,
      "outputs": []
    },
    {
      "cell_type": "code",
      "metadata": {
        "id": "jRZ6x70uMlio",
        "colab_type": "code",
        "colab": {}
      },
      "source": [
        "# /content/2019-02-16_10h23m05.mp3\n",
        "with AudioFileClip('/content/2019-02-16_10h23m05.mp3') as audio:\n",
        "      new = audio.subclip(0, 350)\n",
        "      new.write_audiofile('subclipaudio.mp3')"
      ],
      "execution_count": 0,
      "outputs": []
    },
    {
      "cell_type": "code",
      "metadata": {
        "id": "oSYGgXI-NxVY",
        "colab_type": "code",
        "colab": {}
      },
      "source": [
        "# sync audio video\n",
        "system_call('ffmpeg -y -hwaccel cuvid -i /content/audioswapper/konijn_up_speed.mp4 \\\n",
        "  -i /content/subclipaudio.mp3 -af \"adelay=6500|6500\" -c:v copy /content/final_result/synced_konijn.mp4')"
      ],
      "execution_count": 0,
      "outputs": []
    },
    {
      "cell_type": "code",
      "metadata": {
        "id": "paPogqe_QGiK",
        "colab_type": "code",
        "colab": {}
      },
      "source": [
        "\n",
        "system_call('ffmpeg -y -hwaccel cuvid -i \"/content/final_result/idiotfinal.mp4\" \\\n",
        "  -filter_complex \"[0:v]setpts=1.2*PTS[v];[0:a]atempo=1.25[a]\" -map \"[v]\" \\\n",
        "  -map \"[a]\" \"/content/final_result/idiotfinal_tempo.mp4\"')"
      ],
      "execution_count": 0,
      "outputs": []
    },
    {
      "cell_type": "code",
      "metadata": {
        "id": "PiWk2_QuP65U",
        "colab_type": "code",
        "colab": {}
      },
      "source": [
        "\n",
        "\n",
        "video = VideoFileClip(\"/content/final_speed.mp4\")\n",
        "# video = VideoFileClip(\"/content/final_result/synced_konijn.mp4\")\n",
        "video_with_new_audio = video.set_audio(AudioFileClip(\"/content/subclipaudio.mp3\")) \n",
        "# video_with_new_audio.write_videofile(\"/content/final_result/sjeik_konijn.mp4\", fps=60, codec=\"mpeg4\")\n",
        "video_with_new_audio.write_videofile(\"/content/ownaudio.mp4\", fps=60, codec=\"mpeg4\")"
      ],
      "execution_count": 0,
      "outputs": []
    }
  ]
}