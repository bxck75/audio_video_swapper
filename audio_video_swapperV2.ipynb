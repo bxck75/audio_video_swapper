{
  "nbformat": 4,
  "nbformat_minor": 0,
  "metadata": {
    "colab": {
      "name": "audio-video-swapper.ipynb",
      "version": "0.3.2",
      "provenance": [],
      "private_outputs": true,
      "collapsed_sections": [],
      "toc_visible": true,
      "include_colab_link": true
    },
    "kernelspec": {
      "name": "python3",
      "display_name": "Python 3"
    }
  },
  "cells": [
    {
      "cell_type": "markdown",
      "metadata": {
        "id": "view-in-github",
        "colab_type": "text"
      },
      "source": [
        "<a href=\"https://colab.research.google.com/github/bxck75/audio_video_swapper/blob/master/audio_video_swapperV2.ipynb\" target=\"_parent\"><img src=\"https://colab.research.google.com/assets/colab-badge.svg\" alt=\"Open In Colab\"/></a>"
      ]
    },
    {
      "cell_type": "markdown",
      "metadata": {
        "id": "XGi1SDreZMAZ",
        "colab_type": "text"
      },
      "source": [
        "# A/V Swapper\n",
        "## the automated process does the following\n",
        "*   Rip the videos\n",
        "*   Split audio from video\n",
        "*   Do some corrections in tempo of audio/video\n",
        "*   Swap the audio of two youtube video's\n",
        "*   Stick audio of B(Audio video) under A(Dancer video)\n",
        "*   Do manual corrections after the main process\n",
        "\n",
        "\n",
        "\n",
        "\n"
      ]
    },
    {
      "cell_type": "code",
      "metadata": {
        "id": "AQidTNwPOelh",
        "colab_type": "code",
        "cellView": "both",
        "colab": {}
      },
      "source": [
        "# { output-height: 1, display-mode: \"form\" }\n",
        "!rm -r /content/sample_data\n",
        "#@title Setup the swap \n",
        "import subprocess,os,sys \n",
        "from IPython.display import clear_output\n",
        "# install youtube-dl\n",
        "!pip install youtube-dl ffmpeg moviepy imageio\n",
        "import moviepy,os\n",
        "import moviepy.editor as mp\n",
        "import imageio\n",
        "from IPython.display import clear_output\n",
        "from moviepy.editor import VideoFileClip, AudioFileClip,concatenate_audioclips,concatenate_videoclips,clips_array, vfx,CompositeVideoClip\n",
        "from moviepy.video.fx import crop\n",
        "from moviepy.video.io.ffmpeg_tools import ffmpeg_extract_subclip\n",
        "import zipfile\n",
        "\n",
        "#functions\n",
        "def system_call(command):\n",
        "    p = subprocess.Popen([command], stdout=subprocess.PIPE, shell=True)\n",
        "    return p.stdout.read()\n",
        "\n",
        "def get_seconds(timestr):\n",
        "  hms = [60,1,0]\n",
        "  return str(sum([a*b for a,b in zip(hms, map(int,timestr.split(':')))]))\n",
        "\n",
        "def Trim_video(t,tr,start=0,stop=1000):  \n",
        "  # cut clip if need\n",
        "#   !ffmpeg -hwaccel cuvid -y -i {t} -ss {start} -async 1 -strict -2 {tr}\n",
        "#   ffmpeg_extract_subclip(t, start, stop, targetname=tr) \n",
        "  with VideoFileClip(t) as video:\n",
        "      new = video.subclip(start, stop)\n",
        "      new.write_videofile(tr, audio_codec='aac')\n",
        "\n",
        "# ipywidgets git cloene\n",
        "system_call('git clone https://github.com/jupyter-widgets/ipywidgets.git /content/audioswapper/ipywidgets')\n",
        "# ipywidgets install\n",
        "system_call('pip install ipywidgets && jupyter nbextension enable --py --sys-prefix widgetsnbextension')\n",
        "\n",
        "\n",
        "# some vids to test\n",
        "# https://www.youtube.com/watch?v=LeKxHwB1oVA\n",
        "# https://www.youtube.com/watch?v=vdJcJAO8lrE\n",
        "# https://www.youtube.com/watch?v=5ww-pQynEDI # audio\n",
        "# https://www.youtube.com/watch?v=19WUwZYM7bM # audio\n",
        "# https://www.youtube.com/watch?v=FHWQHeThuz0 # techno\n",
        "\n",
        "#Make folder for extraction\n",
        "if not os.path.exists('/content/audioswapper'):\n",
        "  os.mkdir('/content/audioswapper',777)\n",
        "if not os.path.exists('/content/final_result'):\n",
        "  os.mkdir('/content/final_result',777)\n",
        "\n",
        "#@markdown >video to get the dancer video from\n",
        "DanceVideo='https://www.youtube.com/watch?v=Ee2hKlGXrDs' #@param {type:\"string\"}\n",
        "#@markdown >video to get the audio from\n",
        "AudioVideo='https://www.youtube.com/watch?v=SYnVYJDxu2Q' #@param {type:\"string\"}\n",
        "#@markdown >speed adjust for the video source\n",
        "DanceSpeed = 1 #@param {type:\"slider\", min:0.01, max:2.01, step:0.01}\n",
        "#@markdown  >speed adjust for the audio source\n",
        "AudioSpeed = 1.1 #@param {type:\"slider\", min:0.01, max:2.01, step:0.01}\n",
        "clear_output()"
      ],
      "execution_count": 0,
      "outputs": []
    },
    {
      "cell_type": "code",
      "metadata": {
        "id": "Hd614flpHxHS",
        "colab_type": "code",
        "colab": {}
      },
      "source": [
        "#@title Run this cell to fetch the videos and see the length { output-height: 1, display-mode: \"form\" }\n",
        "system_call('youtube-dl -f mp4 '+AudioVideo+' --output /content/audioswapper/audiosource.mp4')\n",
        "audio_time = system_call(\"ffmpeg -i /content/audioswapper/audiosource.mp4 2>&1 | grep 'Duration' |awk -F '00:' '{print $2}' |awk -F ',' '{print $1}'\")\n",
        "system_call('youtube-dl -f mp4 '+DanceVideo+' --output /content/audioswapper/videosource.mp4')\n",
        "video_time = system_call(\"ffmpeg -i /content/audioswapper/videosource.mp4 2>&1 | grep 'Duration' |awk -F '00:' '{print $2}' |awk -F ',' '{print $1}'\")\n",
        "\n",
        "print(audio_time)\n",
        "print(video_time)\n",
        "\n",
        "clat=get_seconds(str(audio_time).split(\"'\")[1].replace(\".\",\":\").replace(\"\\\\n\",\"\"))\n",
        "clvt=get_seconds(str(video_time).split(\"'\")[1].replace(\".\",\":\").replace(\"\\\\n\",\"\"))\n",
        "clear_output()\n",
        "print(\"Audio source has \"+clat+\" seconds\")\n",
        "print(\"Video source has \"+clvt+\" seconds\")"
      ],
      "execution_count": 0,
      "outputs": []
    },
    {
      "cell_type": "code",
      "metadata": {
        "id": "pMCI8VW650ws",
        "colab_type": "code",
        "colab": {}
      },
      "source": [
        "# @title Trim begin and end { output-height: 0, display-mode: \"form\" }\n",
        "#@markdown (make time adjustments with sliders)\n",
        "\n",
        "Trim_Start_Dance= 0 #@param {type: \"slider\", min: 0, max: 200}\n",
        "Trim_Start_Audio= 0 #@param {type: \"slider\", min: 0, max: 200}\n",
        "Trim_End_Dance= 612 #@param {type: \"slider\", min: 0, max: 1200}\n",
        "Trim_End_Audio = 564 #@param {type:\"slider\", min:0, max:1200, step:1}\n",
        "Final_output_name = 'output_video' #@param {type: \"string\"}\n",
        "\n",
        "#check end times\n",
        "input('set the start and end of sources and press enter')\n",
        "l=[int(clat)-Trim_Start_Audio,int(clvt)-Trim_Start_Dance]\n",
        "shortest_video=min(int(i) for i in l)\n",
        "print('The shortest video is '+str(shortest_video))\n",
        "\n",
        "if Trim_End_Dance > int(clvt):\n",
        "  Trim_End_Dance = int(clvt)\n",
        "  print('set the end time of Videosource to the file limit '+str(shortest_video))\n",
        "if Trim_End_Audio > int(shortest_video):\n",
        "  print('set the end time of Audiosource to the file limit '+str(shortest_video))\n",
        "  Trim_End_Audio = int(shortest_video)\n",
        "clear_output()"
      ],
      "execution_count": 0,
      "outputs": []
    },
    {
      "cell_type": "markdown",
      "metadata": {
        "id": "1IS51ZWfVE-F",
        "colab_type": "text"
      },
      "source": [
        "# Automated process"
      ]
    },
    {
      "cell_type": "code",
      "metadata": {
        "id": "aV6DKyctI6QY",
        "colab_type": "code",
        "colab": {}
      },
      "source": [
        "# trim the audio  \n",
        "print(str(Trim_Start_Audio)+'/'+str(Trim_End_Audio))\n",
        "Trim_video('/content/audioswapper/audiosource.mp4','/content/audioswapper/VI_trimmed.mp4',Trim_Start_Audio,Trim_End_Audio)\n",
        "# trim the video\n",
        "print(str(Trim_Start_Dance)+'/'+str(Trim_End_Dance))\n",
        "Trim_video('/content/audioswapper/videosource.mp4','/content/audioswapper/AU_trimmed.mp4',Trim_Start_Dance,Trim_End_Dance)\n",
        "\n",
        "# speed up dance vid\n",
        "print('working on speeding')\n",
        "system_call('ffmpeg -y -hwaccel cuvid -i \"/content/audioswapper/AU_trimmed.mp4\" \\\n",
        "  -filter_complex \"[0:v]setpts='+str(DanceSpeed)+'*PTS[v];[0:a]atempo=1.0[a]\" -map \"[v]\" \\\n",
        "  -map \"[a]\" \"/content/audioswapper/AU_up_speed.mp4\"')\n",
        "system_call('ffmpeg -y -hwaccel cuvid -i \"/content/audioswapper/VI_trimmed.mp4\" \\\n",
        "  -filter_complex \"[0:v]setpts=0.5*PTS[v];[0:a]atempo='+str(AudioSpeed)+'[a]\" -map \"[v]\" \\\n",
        "  -map \"[a]\" \"/content/audioswapper/VI_up_speed.mp4\"')\n",
        "\n",
        "# split the audio from de trimmed video\n",
        "videoclip = VideoFileClip('/content/audioswapper/VI_up_speed.mp4')\n",
        "audioclip = videoclip.audio\n",
        "audioclip.write_audiofile('/content/audioswapper/VI.mp3')\n",
        "\n",
        "# sync audio video\n",
        "system_call('ffmpeg -y -hwaccel cuvid -i /content/audioswapper/AU_up_speed.mp4 \\\n",
        "  -i /content/audioswapper/VI.mp3 -af \"adelay=6500|6500\" -c:v copy /content/audioswapper/synced_AU.mp4')\n",
        "\n",
        "# load the Video source\n",
        "video = VideoFileClip(\"/content/audioswapper/synced_AU.mp4\")\n",
        "# combine with the Audio source\n",
        "video_with_audio = video.set_audio(AudioFileClip(\"/content/audioswapper/VI.mp3\")) \n",
        "# write the output video\n",
        "video_with_audio.write_videofile(\"/content/final_result/\"+Final_output_name+\".mp4\", fps=60, codec=\"mpeg4\")\n",
        "\n",
        "clear_output()"
      ],
      "execution_count": 0,
      "outputs": []
    },
    {
      "cell_type": "markdown",
      "metadata": {
        "id": "2upgs8AW84-5",
        "colab_type": "text"
      },
      "source": [
        "#### The End of the automated process"
      ]
    },
    {
      "cell_type": "code",
      "metadata": {
        "id": "uPv2Ndzhq2ns",
        "colab_type": "code",
        "colab": {}
      },
      "source": [
        "sys.exit('The end of the swapping....manual below')\n",
        "# system_call('rm -r /content/audioswapper')\n",
        "clear_output()"
      ],
      "execution_count": 0,
      "outputs": []
    },
    {
      "cell_type": "markdown",
      "metadata": {
        "id": "-A9mbgYirFbI",
        "colab_type": "text"
      },
      "source": [
        "# Manual adjustments"
      ]
    },
    {
      "cell_type": "code",
      "metadata": {
        "id": "pc_NLECHvwuW",
        "colab_type": "code",
        "colab": {},
        "cellView": "form"
      },
      "source": [
        "#@title Youtube Ripper\n",
        "#@markdown type the youtube url and filename\n",
        "url_to_rip = \"https://www.youtube.com/watch?v=bwnSkNyWrxI\" #@param {type: \"string\"}\n",
        "mpg_output_file = \"/content/audioswapper/techno_berlin.mp4\" #@param {type: \"string\"}\n",
        "!youtube-dl -f mp4 --output {mpg_output_file} {url_to_rip}\n",
        "clear_output()"
      ],
      "execution_count": 0,
      "outputs": []
    },
    {
      "cell_type": "code",
      "metadata": {
        "id": "aT2tNmr6t-1L",
        "colab_type": "code",
        "colab": {},
        "cellView": "form"
      },
      "source": [
        "# system_call('ffmpeg -y -hwaccel cuvid -i \"/content/final_result/idiotfinal.mp4\" \\\n",
        "#   -filter_complex \"[0:v]setpts=1.10*PTS[v];[0:a]atempo=1.41[a]\" -map \"[v]\" \\\n",
        "#   -map \"[a]\" \"/content/final_result/idiotfinal_tempo3.mp4\"')\n",
        "#@title A/V speed adjust\n",
        "#@markdown Trim audio and video speed with the sliders 1.00 is no change\n",
        "org_vid= '/content/boogie_AUenshuffle1_russia.mp4' #@param {type : \"string\"}\n",
        "new_vid= \"/content/russia_sub_clip_speed.mp4\" #@param {type : \"string\"}\n",
        "audio_speed = 1.02 #@param {type: \"slider\", min: 0.01, max: 2.01, step:0.01}\n",
        "video_speed = 0.83 #@param {type:\"slider\", min:0.0, max:2.01, step:0.01}\n",
        "args='[0:v]setpts='+str(video_speed)+'*PTS[v];[0:a]atempo='+str(audio_speed)+'[a]\" -map \"[v]\" -map \"[a]\" ' + new_vid\n",
        "system_call('ffmpeg -y -hwaccel cuvid -i '+org_vid+' -filter_complex \"'+args)\n",
        "clear_output()"
      ],
      "execution_count": 0,
      "outputs": []
    },
    {
      "cell_type": "code",
      "metadata": {
        "id": "CLdeVQoKy_wp",
        "colab_type": "code",
        "colab": {},
        "cellView": "form"
      },
      "source": [
        "#@title Trimmer\n",
        "#@markdown Trim the end and begin of a video\n",
        "org_vid= '/content/russia_sub_clip_speed.mp4' #@param {type : \"string\"}\n",
        "new_vid= \"/content/russia_sub_clip_speed_cut_final.mp4\" #@param {type : \"string\"}\n",
        "# /content/boogie_AUenshuffle1_russia_11_00a.mp4\n",
        "start= '00:00:24' #@param {type : \"string\"}\n",
        "end= '00:03:50' #@param {type : \"string\"}\n",
        "\n",
        "if new_vid == '':\n",
        "    name,ext =org_vid.split('.')\n",
        "    new_vid  = name+'_cut.'+ext\n",
        "    print(new_vid)\n",
        "\n",
        "\n",
        "Trim_video(org_vid,new_vid, start,end)\n",
        "\n",
        "clear_output()"
      ],
      "execution_count": 0,
      "outputs": []
    },
    {
      "cell_type": "markdown",
      "metadata": {
        "id": "FFxY4_AZykgG",
        "colab_type": "text"
      },
      "source": [
        "# Experimental and proto code bellow"
      ]
    },
    {
      "cell_type": "code",
      "metadata": {
        "id": "I78q_M8urz_V",
        "colab_type": "code",
        "colab": {}
      },
      "source": [
        "# reactivate functions\n",
        "def Trim_video(t,tr,start=0,stop=1000):  \n",
        "  # cut clip if need\n",
        "#   !ffmpeg -hwaccel cuvid -y -i {t} -ss {start} -async 1 -strict -2 {tr}\n",
        "#   ffmpeg_extract_subclip(t, start, stop, targetname=tr) \n",
        "  with VideoFileClip(t) as video:\n",
        "      new = video.subclip(start, stop)\n",
        "      new.write_videofile(tr, audio_codec='aac')\n",
        "# Trim_video('/content/final_result/boogie_AUenshuffle1.mp4','/content/final_result/boogie_AUenshuffle_trim.mp4',32,278)\n",
        "def get_seconds(timestr):\n",
        "  ftr = [3600,60,1]\n",
        "  return str(sum([a*b for a,b in zip(ftr, map(int,timestr.split(':')))]))\n",
        "def system_call(command):\n",
        "    p = subprocess.Popen([command], stdout=subprocess.PIPE, shell=True)\n",
        "    return p.stdout.read()\n",
        "def get_vid_length(V)\n",
        "    system_call('youtube-dl -f mp4 '+V+' --output /content/audioswapper/audiotemp.mp4')\n",
        "    return system_call(\"ffmpeg -i /content/audioswapper/temp.mp4 2>&1 | grep 'Duration' |awk -F '00:' '{print $2}' |awk -F ',' '{print $1}'\")\n",
        "\n"
      ],
      "execution_count": 0,
      "outputs": []
    },
    {
      "cell_type": "code",
      "metadata": {
        "id": "45_3Px7gyuTD",
        "colab_type": "code",
        "colab": {}
      },
      "source": [
        "# Trim_video('/content/audioswapper/audiosourceberlin.mp4','/content/audioswapper/audiosourceberlintrimmerd_dance_talk.mp4',30,40)\n",
        "# Trim_video('/content/audioswapper/audiosourceberlin.mp4','/content/audioswapper/audiosourceberlintrimmerd_dance1.mp4',20,30)\n",
        "# Trim_video('/content/audioswapper/audiosourceberlin.mp4','/content/audioswapper/audiosourceberlintrimmerd_dance2.mp4',44,68)\n",
        "# Trim_video('/content/audioswapper/audiosourceberlin.mp4','/content/audioswapper/audiosourceberlintrimmerd_dance3.mp4',71,96)\n",
        "# Trim_video('/content/audioswapper/audiosourceberlin.mp4','/content/audioswapper/audiosourceberlintrimmerd_dance4.mp4',108,152)\n",
        "# Trim_video('/content/audioswapper/audiosourceberlin.mp4','/content/audioswapper/audiosourceberlintrimmerd_dance5.mp4',176 ,180)\n",
        "Trim_video('/content/audioswapper/audiosourceberlin.mp4','/content/audioswapper/audiosourceberlintrimmerd_dance6.mp4',200 ,240)\n",
        "Trim_video('/content/audioswapper/audiosourceberlin.mp4','/content/audioswapper/audiosourceberlintrimmerd_dance7.mp4',240 ,260)"
      ],
      "execution_count": 0,
      "outputs": []
    },
    {
      "cell_type": "code",
      "metadata": {
        "id": "ArWE6plli8_A",
        "colab_type": "code",
        "colab": {}
      },
      "source": [
        "# /content/audioswapper/VI.mp3 biggie\n",
        "video = VideoFileClip(\"/content/audioswapper/VI_trimmed_new.mp4\")\n",
        "audio=video.audio\n",
        "audio.write_audiofile('/content/audioswapper/VIlol.mp3')\n",
        "\n",
        "# video = VideoFileClip(\"/content/final_result/synced_AU.mp4\")\n",
        "# video_with_new_audio = video.set_audio(AudioFileClip(\"/content/audioswapper/VI.mp3\")) \n",
        "videoclip1=VideoFileClip('/content/audioswapper/audiosourceberlintrimmerd_dance_talk.mp4').volumex(0.0)\n",
        "videoclip2=VideoFileClip('/content/audioswapper/audiosourceberlintrimmerd_dance1.mp4').volumex(0.0)\n",
        "videoclip3=VideoFileClip('/content/audioswapper/audiosourceberlintrimmerd_dance2.mp4').volumex(0.0)\n",
        "videoclip4=VideoFileClip('/content/audioswapper/audiosourceberlintrimmerd_dance3.mp4').volumex(0.0)\n",
        "videoclip5=VideoFileClip('/content/audioswapper/audiosourceberlintrimmerd_dance4.mp4').volumex(0.0)\n",
        "videoclip6=VideoFileClip('/content/audioswapper/audiosourceberlintrimmerd_dance5.mp4').volumex(0.0)\n",
        "videoclip7=VideoFileClip('/content/audioswapper/audiosourceberlintrimmerd_dance6.mp4').volumex(0.0)\n",
        "videoclip7=VideoFileClip('/content/audioswapper/audiosourceberlintrimmerd_dance7.mp4').volumex(0.0)\n",
        "\n",
        "concat_clip = mp.concatenate_videoclips([videoclip1,videoclip2,videoclip3,videoclip4,videoclip5,videoclip6,videoclip7], method=\"compose\")\n",
        "# concat_clip.write_videofile(\"texts.mp4\")\n",
        "# final = CompositeVideoClip([videoclip1,videoclip2,videoclip3,videoclip4])\n",
        "# final.set_audio(AudioFileClip(\"/content/audioswapper/VIlol.mp3\")).volumex(1.4)\n",
        "concat_clip.write_videofile(\"/content/compovid2.mp4\")#audio=\"/content/audioswapper/VIlol.mp3\"\n",
        "# sync audio video\n",
        "system_call('ffmpeg -y -hwaccel cuvid -i /content/compovid2.mp4 -i /content/audioswapper/VIlol.mp3 -af \"adelay=6500|6500\" -c:v copy /content/final_result/synced_AU.mp4')\n",
        "video = VideoFileClip(\"/content/final_result/synced_AU.mp4\")\n",
        "# video = VideoFileClip(\"/content/final_result/synced_AU.mp4\")\n",
        "video_with_new_audio = video.set_audio(AudioFileClip(\"/content/audioswapper/VIlol.mp3\")) \n",
        "# video_with_new_audio.write_videofile(\"/content/final_result/VI_AU.mp4\", fps=60, codec=\"mpeg4\")\n",
        "video_with_new_audio.write_videofile(\"/content/final_result/idiotfinal.mp4\")\n"
      ],
      "execution_count": 0,
      "outputs": []
    },
    {
      "cell_type": "markdown",
      "metadata": {
        "id": "UWNqFDPCdhIQ",
        "colab_type": "text"
      },
      "source": [
        "##widgets"
      ]
    },
    {
      "cell_type": "code",
      "metadata": {
        "id": "hJHIlwhHVNQ_",
        "colab_type": "code",
        "colab": {}
      },
      "source": [
        "get_seconds('00:00:00')"
      ],
      "execution_count": 0,
      "outputs": []
    },
    {
      "cell_type": "code",
      "metadata": {
        "id": "ktk9Sf3uBskf",
        "colab_type": "code",
        "colab": {}
      },
      "source": [
        "# video_time = system_call(\"ffmpeg -i /content/final_result/idiotfinal_tempo3.mp4 2>&1 | grep 'Duration' \")#|awk -F '00:' '{print $2}' |awk -F ',' '{print $1}'\n",
        "\n",
        "\n",
        "print(video_time)\n",
        "print(get_seconds('00:03:30'))\n",
        "print(get_vid_length(V))\n",
        "\n",
        "Trim_video('/content/final_result/idiotfinal_tempo3.mp4','/content/final_result/idiotfinal_tempo3_final.mp4',0,'00:02:22')"
      ],
      "execution_count": 0,
      "outputs": []
    },
    {
      "cell_type": "code",
      "metadata": {
        "id": "hqW-gZW5tWM4",
        "colab_type": "code",
        "colab": {}
      },
      "source": [
        "# # split the audio from de trimmed video\n",
        "# system_call('ffmpeg -y -hwaccel cuvid -i \"/content/audioswapper/audiosource.mp4\" \\\n",
        "#   -filter_complex \"[0:v]setpts=0.5*PTS[v];[0:a]atempo=1.21[a]\" -map \"[v]\" \\\n",
        "#   -map \"[a]\" \"/content/audioswapper/VI_up_speed.mp4\"')\n",
        "videoclip = VideoFileClip('/content/audioswapper/audiosource.mp4')\n",
        "audioclip = videoclip.audio\n",
        "audioclip.write_audiofile('/content/final_result/VI.mp3')\n",
        "# sync audio video\n",
        "system_call('ffmpeg -y -hwaccel cuvid -i /content/compovid.mp4 -i /content/audioswapper/VIlol.mp3 -af \"adelay=6500|6500\" -c:v copy /content/final_result/synced_AU.mp4')\n",
        "\n",
        "video = VideoFileClip(\"/content/final_result/synced_AU.mp4\")\n",
        "# video = VideoFileClip(\"/content/final_result/synced_AU.mp4\")\n",
        "video_with_new_audio = video.set_audio(AudioFileClip(\"/content/final_result/VI.mp3\")) \n",
        "# video_with_new_audio.write_videofile(\"/content/final_result/VI_AU.mp4\", fps=60, codec=\"mpeg4\")\n",
        "video_with_new_audio.write_videofile(\"/content/final_result/\"+Final_output_name+\".mp4\")"
      ],
      "execution_count": 0,
      "outputs": []
    },
    {
      "cell_type": "code",
      "metadata": {
        "id": "zJst31De0NK5",
        "colab_type": "code",
        "colab": {}
      },
      "source": [
        "# split the audio from de trimmed video\n",
        "system_call('ffmpeg -y -hwaccel cuvid -i '/content/final_result/boogie_AUenshuffle1.mp4' \\\n",
        "  -filter_complex \"[0:v]setpts=1.2*PTS[v];[0:a]atempo=0.9[a]\" -map \"[v]\" \\\n",
        "  -map \"[a]\" \"/content/final_result/boogie_AUenshuffle1_speed.mp4\"')"
      ],
      "execution_count": 0,
      "outputs": []
    },
    {
      "cell_type": "code",
      "metadata": {
        "id": "jRZ6x70uMlio",
        "colab_type": "code",
        "colab": {}
      },
      "source": [
        "# /content/2019-02-16_10h23m05.mp3\n",
        "with AudioFileClip('/content/2019-02-16_10h23m05.mp3') as audio:\n",
        "      new = audio.subclip(0, 350)\n",
        "      new.write_audiofile('subclipaudio.mp3')"
      ],
      "execution_count": 0,
      "outputs": []
    },
    {
      "cell_type": "code",
      "metadata": {
        "id": "oSYGgXI-NxVY",
        "colab_type": "code",
        "colab": {}
      },
      "source": [
        "# sync audio video\n",
        "system_call('ffmpeg -y -hwaccel cuvid -i /content/audioswapper/AU_up_speed.mp4 \\\n",
        "  -i /content/subclipaudio.mp3 -af \"adelay=6500|6500\" -c:v copy /content/final_result/synced_AU.mp4')"
      ],
      "execution_count": 0,
      "outputs": []
    },
    {
      "cell_type": "code",
      "metadata": {
        "id": "paPogqe_QGiK",
        "colab_type": "code",
        "colab": {}
      },
      "source": [
        "\n",
        "system_call('ffmpeg -y -hwaccel cuvid -i \"/content/final_result/idiotfinal.mp4\" \\\n",
        "  -filter_complex \"[0:v]setpts=1.2*PTS[v];[0:a]atempo=1.25[a]\" -map \"[v]\" \\\n",
        "  -map \"[a]\" \"/content/final_result/idiotfinal_tempo.mp4\"')"
      ],
      "execution_count": 0,
      "outputs": []
    },
    {
      "cell_type": "code",
      "metadata": {
        "id": "PiWk2_QuP65U",
        "colab_type": "code",
        "colab": {}
      },
      "source": [
        "\n",
        "\n",
        "video = VideoFileClip(\"/content/final_speed.mp4\")\n",
        "# video = VideoFileClip(\"/content/final_result/synced_AU.mp4\")\n",
        "video_with_new_audio = video.set_audio(AudioFileClip(\"/content/subclipaudio.mp3\")) \n",
        "# video_with_new_audio.write_videofile(\"/content/final_result/VI_AU.mp4\", fps=60, codec=\"mpeg4\")\n",
        "video_with_new_audio.write_videofile(\"/content/ownaudio.mp4\", fps=60, codec=\"mpeg4\")"
      ],
      "execution_count": 0,
      "outputs": []
    },
    {
      "cell_type": "code",
      "metadata": {
        "id": "xOCidimZdqLH",
        "colab_type": "code",
        "cellView": "both",
        "colab": {}
      },
      "source": [
        "#widgets\n",
        "\n",
        "# All input widgets!\n",
        "\n",
        "#@title Example form fields\n",
        "#@markdown Forms support many types of fields.\n",
        "\n",
        "no_type_checking = 'name'  #@param\n",
        "string_type = 'example'  #@param {type: \"string\"}\n",
        "slider_value = 179  #@param {type: \"slider\", min: 100, max: 200}\n",
        "number = 102  #@param {type: \"number\"}\n",
        "date = '2010-11-05'  #@param {type: \"date\"}\n",
        "pick_me = \"monday\"  #@param ['monday', 'tuesday', 'wednesday', 'thursday']\n",
        "select_or_input = \"apples\" #@param [\"apples\", \"bananas\", \"oranges\"] {allow-input: true}\n",
        "#@markdown ---*italicized text* "
      ],
      "execution_count": 0,
      "outputs": []
    },
    {
      "cell_type": "code",
      "metadata": {
        "id": "KzQAT75GFCBp",
        "colab_type": "code",
        "colab": {}
      },
      "source": [
        "# !zip /content/audioswapper/ipywidgets ipywidgets_zip.zip\n",
        "\n",
        "import numpy as np\n",
        "from matplotlib import pyplot as plt\n",
        "\n",
        "ys = 200 + np.random.randn(100)\n",
        "x = [x for x in range(len(ys))]\n",
        "\n",
        "plt.plot(x, ys, '-')\n",
        "plt.fill_between(x, ys, 195, where=(ys > 195), facecolor='g', alpha=0.6)\n",
        "\n",
        "plt.title(\"Fills and Alpha Example\")\n",
        "plt.show()"
      ],
      "execution_count": 0,
      "outputs": []
    }
  ]
}